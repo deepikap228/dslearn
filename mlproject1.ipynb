{
 "cells": [
  {
   "cell_type": "code",
   "execution_count": 12,
   "metadata": {},
   "outputs": [],
   "source": [
    "import sys\n",
    "import pandas\n",
    "import matplotlib\n",
    "import seaborn\n",
    "import sklearn\n",
    "import matplotlib.pyplot as plt\n",
    "import seaborn as sns\n",
    "from sklearn.model_selection import train_test_split\n"
   ]
  },
  {
   "cell_type": "code",
   "execution_count": 13,
   "metadata": {},
   "outputs": [],
   "source": [
    "#Load the data\n",
    "games=pandas.read_csv('games.csv')"
   ]
  },
  {
   "cell_type": "code",
   "execution_count": 14,
   "metadata": {},
   "outputs": [
    {
     "name": "stdout",
     "output_type": "stream",
     "text": [
      "Index(['id', 'type', 'name', 'yearpublished', 'minplayers', 'maxplayers',\n",
      "       'playingtime', 'minplaytime', 'maxplaytime', 'minage', 'users_rated',\n",
      "       'average_rating', 'bayes_average_rating', 'total_owners',\n",
      "       'total_traders', 'total_wanters', 'total_wishers', 'total_comments',\n",
      "       'total_weights', 'average_weight'],\n",
      "      dtype='object')\n",
      "(81312, 20)\n"
     ]
    }
   ],
   "source": [
    "#Print the names of the columns of the games\n",
    "print(games.columns)\n",
    "print(games.shape)"
   ]
  },
  {
   "cell_type": "code",
   "execution_count": 15,
   "metadata": {},
   "outputs": [
    {
     "data": {
      "text/plain": [
       "(array([24380.,   606.,  1325.,  3303.,  6687., 12277., 15849., 11737.,\n",
       "         3860.,  1288.]),\n",
       " array([ 0.,  1.,  2.,  3.,  4.,  5.,  6.,  7.,  8.,  9., 10.]),\n",
       " <a list of 10 Patch objects>)"
      ]
     },
     "execution_count": 15,
     "metadata": {},
     "output_type": "execute_result"
    },
    {
     "data": {
      "image/png": "[encoded data removed]",
      "text/plain": [
       "<Figure size 432x288 with 1 Axes>"
      ]
     },
     "metadata": {},
     "output_type": "display_data"
    }
   ],
   "source": [
    "#Make a histogram of all ratings in the average rating column\n",
    "plt.hist(games[\"average_rating\"])\n",
    "#plt.show()"
   ]
  },
  {
   "cell_type": "code",
   "execution_count": 19,
   "metadata": {},
   "outputs": [
    {
     "name": "stdout",
     "output_type": "stream",
     "text": [
      "id                             318\n",
      "type                     boardgame\n",
      "name                    Looney Leo\n",
      "yearpublished                    0\n",
      "minplayers                       0\n",
      "maxplayers                       0\n",
      "playingtime                      0\n",
      "minplaytime                      0\n",
      "maxplaytime                      0\n",
      "minage                           0\n",
      "users_rated                      0\n",
      "average_rating                   0\n",
      "bayes_average_rating             0\n",
      "total_owners                     0\n",
      "total_traders                    0\n",
      "total_wanters                    0\n",
      "total_wishers                    1\n",
      "total_comments                   0\n",
      "total_weights                    0\n",
      "average_weight                   0\n",
      "Name: 13048, dtype: object\n",
      "id                                  12333\n",
      "type                            boardgame\n",
      "name                    Twilight Struggle\n",
      "yearpublished                        2005\n",
      "minplayers                              2\n",
      "maxplayers                              2\n",
      "playingtime                           180\n",
      "minplaytime                           180\n",
      "maxplaytime                           180\n",
      "minage                                 13\n",
      "users_rated                         20113\n",
      "average_rating                    8.33774\n",
      "bayes_average_rating              8.22186\n",
      "total_owners                        26647\n",
      "total_traders                         372\n",
      "total_wanters                        1219\n",
      "total_wishers                        5865\n",
      "total_comments                       5347\n",
      "total_weights                        2562\n",
      "average_weight                     3.4785\n",
      "Name: 0, dtype: object\n"
     ]
    }
   ],
   "source": [
    "#Print the first row of all the games with zero scores\n",
    "print(games[games[\"average_rating\"]==0].iloc[0])\n",
    "#Print the first row of games with scores greater than 0\n",
    "print(games[games[\"average_rating\"]>0].iloc[0])"
   ]
  },
  {
   "cell_type": "code",
   "execution_count": 25,
   "metadata": {},
   "outputs": [
    {
     "data": {
      "text/plain": [
       "(array([  602.,  1231.,  2824.,  5206.,  8223., 13593., 13849.,  8470.,\n",
       "         2224.,   672.]),\n",
       " array([ 1. ,  1.9,  2.8,  3.7,  4.6,  5.5,  6.4,  7.3,  8.2,  9.1, 10. ]),\n",
       " <a list of 10 Patch objects>)"
      ]
     },
     "execution_count": 25,
     "metadata": {},
     "output_type": "execute_result"
    },
    {
     "data": {
      "image/png": "[encoded data removed]",
      "text/plain": [
       "<Figure size 432x288 with 1 Axes>"
      ]
     },
     "metadata": {},
     "output_type": "display_data"
    }
   ],
   "source": [
    "#Remove any row without user reviews\n",
    "games=games[games[\"users_rated\"]>0]\n",
    "#Remove any row with missing values\n",
    "games=games.dropna(axis=0)\n",
    "#Make a histogram of all average ratings\n",
    "plt.hist(games[\"average_rating\"])\n",
    "#plt.show()"
   ]
  },
  {
   "cell_type": "code",
   "execution_count": 48,
   "metadata": {},
   "outputs": [
    {
     "data": {
      "image/png": "[encoded data removed]",
      "text/plain": [
       "<Figure size 864x648 with 2 Axes>"
      ]
     },
     "metadata": {},
     "output_type": "display_data"
    }
   ],
   "source": [
    "#Correlation matrix\n",
    "corrmat=games.corr()\n",
    "fig=plt.figure(figsize=(12,9))\n",
    "sns.heatmap(corrmat,vmax=8,square=True)\n",
    "plt.show()"
   ]
  },
  {
   "cell_type": "code",
   "execution_count": 30,
   "metadata": {},
   "outputs": [],
   "source": [
    "#Get all the columns from the dataframe\n",
    "columns=games.columns.tolist()\n",
    "\n",
    "#Filter the columns to remove the data we do not want\n",
    "columns=[c for c in columns if c not in [\"bayes_average_rating\",\"average_rating\",\"type\",\"name\",\"id\"]]\n",
    "\n",
    "#Store the variable we will be predicting on\n",
    "target=\"average_rating\""
   ]
  },
  {
   "cell_type": "code",
   "execution_count": 33,
   "metadata": {},
   "outputs": [
    {
     "name": "stdout",
     "output_type": "stream",
     "text": [
      "(45515, 20)\n",
      "(11379, 20)\n"
     ]
    }
   ],
   "source": [
    "#Generate training and test datasets\n",
    "from sklearn.model_selection import train_test_split\n",
    "# Here on the place of model_selection we can also use cross_validation\n",
    "#Generate training set\n",
    "train=games.sample(frac=0.8,random_state=1)\n",
    "\n",
    "#Select anything not in the training set and put it in test\n",
    "test=games.loc[~games.index.isin(train.index)]\n",
    "\n",
    "#Print shapes\n",
    "print(train.shape)\n",
    "print(test.shape)"
   ]
  },
  {
   "cell_type": "code",
   "execution_count": 35,
   "metadata": {},
   "outputs": [
    {
     "data": {
      "text/plain": [
       "LinearRegression(copy_X=True, fit_intercept=True, n_jobs=1, normalize=False)"
      ]
     },
     "execution_count": 35,
     "metadata": {},
     "output_type": "execute_result"
    }
   ],
   "source": [
    "#import Linear regression model\n",
    "from sklearn.linear_model import LinearRegression\n",
    "from sklearn.metrics import mean_squared_error\n",
    "\n",
    "#initialize the model class\n",
    "LR=LinearRegression()\n",
    "\n",
    "#Fit the model the training data\n",
    "LR.fit(train[columns],train[target])"
   ]
  },
  {
   "cell_type": "code",
   "execution_count": 37,
   "metadata": {},
   "outputs": [
    {
     "data": {
      "text/plain": [
       "2.0788190326293257"
      ]
     },
     "execution_count": 37,
     "metadata": {},
     "output_type": "execute_result"
    }
   ],
   "source": [
    "#Generate predictions for the test set\n",
    "predictions=LR.predict(test[columns])\n",
    "\n",
    "#Compute error between our test predictions and actual values\n",
    "mean_squared_error(predictions,test[target])"
   ]
  },
  {
   "cell_type": "code",
   "execution_count": 38,
   "metadata": {},
   "outputs": [
    {
     "data": {
      "text/plain": [
       "RandomForestRegressor(bootstrap=True, criterion='mse', max_depth=None,\n",
       "           max_features='auto', max_leaf_nodes=None,\n",
       "           min_impurity_decrease=0.0, min_impurity_split=None,\n",
       "           min_samples_leaf=10, min_samples_split=2,\n",
       "           min_weight_fraction_leaf=0.0, n_estimators=100, n_jobs=1,\n",
       "           oob_score=False, random_state=1, verbose=0, warm_start=False)"
      ]
     },
     "execution_count": 38,
     "metadata": {},
     "output_type": "execute_result"
    }
   ],
   "source": [
    "#Import the random forest Model\n",
    "from sklearn.ensemble import RandomForestRegressor\n",
    "\n",
    "#initialize the model\n",
    "RFR=RandomForestRegressor(n_estimators=100,min_samples_leaf=10,random_state=1)\n",
    "\n",
    "#Fit the data\n",
    "RFR.fit(train[columns],train[target])"
   ]
  },
  {
   "cell_type": "code",
   "execution_count": 39,
   "metadata": {},
   "outputs": [
    {
     "data": {
      "text/plain": [
       "1.4458564605687358"
      ]
     },
     "execution_count": 39,
     "metadata": {},
     "output_type": "execute_result"
    }
   ],
   "source": [
    "#Make predictions\n",
    "predictions=RFR.predict(test[columns])\n",
    "\n",
    "#Compute the error between our test predictions and actual values\n",
    "mean_squared_error(predictions,test[target])"
   ]
  },
  {
   "cell_type": "code",
   "execution_count": 40,
   "metadata": {},
   "outputs": [
    {
     "data": {
      "text/plain": [
       "yearpublished      2011.0000\n",
       "minplayers            2.0000\n",
       "maxplayers            6.0000\n",
       "playingtime         200.0000\n",
       "minplaytime          60.0000\n",
       "maxplaytime         200.0000\n",
       "minage               14.0000\n",
       "users_rated       15709.0000\n",
       "total_owners      17611.0000\n",
       "total_traders       273.0000\n",
       "total_wanters      1108.0000\n",
       "total_wishers      5581.0000\n",
       "total_comments     3188.0000\n",
       "total_weights      1486.0000\n",
       "average_weight        3.6359\n",
       "Name: 9, dtype: float64"
      ]
     },
     "execution_count": 40,
     "metadata": {},
     "output_type": "execute_result"
    }
   ],
   "source": [
    "test[columns].iloc[0]"
   ]
  },
  {
   "cell_type": "code",
   "execution_count": 42,
   "metadata": {},
   "outputs": [
    {
     "name": "stdout",
     "output_type": "stream",
     "text": [
      "[8.12061283]\n",
      "[7.91373581]\n"
     ]
    }
   ],
   "source": [
    "#Make predictions with both models\n",
    "rating_LR=LR.predict(test[columns].iloc[0].values.reshape(1,-1))\n",
    "rating_RFR=RFR.predict(test[columns].iloc[0].values.reshape(1,-1))\n",
    "\n",
    "#Print out the predictions\n",
    "print(rating_LR)\n",
    "print(rating_RFR)"
   ]
  },
  {
   "cell_type": "code",
   "execution_count": 43,
   "metadata": {},
   "outputs": [
    {
     "data": {
      "text/plain": [
       "8.07933"
      ]
     },
     "execution_count": 43,
     "metadata": {},
     "output_type": "execute_result"
    }
   ],
   "source": [
    "test[target].iloc[0]"
   ]
  },
  {
   "cell_type": "code",
   "execution_count": null,
   "metadata": {},
   "outputs": [],
   "source": []
  }
 ],
 "metadata": {
  "kernelspec": {
   "display_name": "Python 3",
   "language": "python",
   "name": "python3"
  },
  "language_info": {
   "codemirror_mode": {
    "name": "ipython",
    "version": 3
   },
   "file_extension": ".py",
   "mimetype": "text/x-python",
   "name": "python",
   "nbconvert_exporter": "python",
   "pygments_lexer": "ipython3",
   "version": "3.6.5"
  }
 },
 "nbformat": 4,
 "nbformat_minor": 2
}
